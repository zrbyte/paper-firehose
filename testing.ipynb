{
 "cells": [
  {
   "cell_type": "code",
   "execution_count": 2,
   "metadata": {},
   "outputs": [],
   "source": [
    "%load_ext autoreload\n",
    "%autoreload 2"
   ]
  },
  {
   "cell_type": "code",
   "execution_count": 4,
   "metadata": {},
   "outputs": [],
   "source": [
    "import rssparser as rssp\n",
    "import os\n",
    "import pickle"
   ]
  },
  {
   "cell_type": "code",
   "execution_count": 31,
   "metadata": {},
   "outputs": [
    {
     "name": "stderr",
     "output_type": "stream",
     "text": [
      "INFO:root:Processing feed 'cond-mat'\n",
      "INFO:root:Processing feed 'prb'\n"
     ]
    }
   ],
   "source": [
    "rssp.main()"
   ]
  },
  {
   "cell_type": "code",
   "execution_count": 6,
   "metadata": {},
   "outputs": [],
   "source": [
    "with open('cond-mat_seen_entries_primary.pkl', 'rb') as f:\n",
    "    seen_condmat = pickle.load(f)"
   ]
  },
  {
   "cell_type": "code",
   "execution_count": 10,
   "metadata": {},
   "outputs": [
    {
     "data": {
      "text/plain": [
       "datetime.datetime(2024, 9, 23, 4, 0)"
      ]
     },
     "execution_count": 10,
     "metadata": {},
     "output_type": "execute_result"
    }
   ],
   "source": [
    "seen_condmat['oai:arXiv.org:2409.11438v2']"
   ]
  },
  {
   "cell_type": "code",
   "execution_count": 11,
   "metadata": {},
   "outputs": [
    {
     "data": {
      "text/plain": [
       "{'oai:arXiv.org:2409.12234v1': datetime.datetime(2024, 9, 20, 4, 0),\n",
       " 'oai:arXiv.org:2409.12254v1': datetime.datetime(2024, 9, 20, 4, 0),\n",
       " 'oai:arXiv.org:2409.12423v1': datetime.datetime(2024, 9, 20, 4, 0),\n",
       " 'oai:arXiv.org:2409.12462v1': datetime.datetime(2024, 9, 20, 4, 0),\n",
       " 'oai:arXiv.org:2409.12485v1': datetime.datetime(2024, 9, 20, 4, 0),\n",
       " 'oai:arXiv.org:2409.12526v1': datetime.datetime(2024, 9, 20, 4, 0),\n",
       " 'oai:arXiv.org:2409.12652v1': datetime.datetime(2024, 9, 20, 4, 0),\n",
       " 'oai:arXiv.org:2409.12689v1': datetime.datetime(2024, 9, 20, 4, 0),\n",
       " 'oai:arXiv.org:2409.12731v1': datetime.datetime(2024, 9, 20, 4, 0),\n",
       " 'oai:arXiv.org:2409.12781v1': datetime.datetime(2024, 9, 20, 4, 0),\n",
       " 'oai:arXiv.org:2409.12807v1': datetime.datetime(2024, 9, 20, 4, 0),\n",
       " 'oai:arXiv.org:2409.12829v1': datetime.datetime(2024, 9, 20, 4, 0),\n",
       " 'oai:arXiv.org:2409.12871v1': datetime.datetime(2024, 9, 20, 4, 0),\n",
       " 'oai:arXiv.org:2409.12908v1': datetime.datetime(2024, 9, 20, 4, 0),\n",
       " 'oai:arXiv.org:2409.12948v1': datetime.datetime(2024, 9, 20, 4, 0),\n",
       " 'oai:arXiv.org:2409.12220v1': datetime.datetime(2024, 9, 20, 4, 0),\n",
       " 'oai:arXiv.org:2409.12230v1': datetime.datetime(2024, 9, 20, 4, 0),\n",
       " 'oai:arXiv.org:2409.12237v1': datetime.datetime(2024, 9, 20, 4, 0),\n",
       " 'oai:arXiv.org:2409.12292v1': datetime.datetime(2024, 9, 20, 4, 0),\n",
       " 'oai:arXiv.org:2409.12313v1': datetime.datetime(2024, 9, 20, 4, 0),\n",
       " 'oai:arXiv.org:2409.12451v1': datetime.datetime(2024, 9, 20, 4, 0),\n",
       " 'oai:arXiv.org:2409.12582v1': datetime.datetime(2024, 9, 20, 4, 0),\n",
       " 'oai:arXiv.org:2409.12855v1': datetime.datetime(2024, 9, 20, 4, 0),\n",
       " 'oai:arXiv.org:2309.08016v2': datetime.datetime(2024, 9, 20, 4, 0),\n",
       " 'oai:arXiv.org:2311.17859v3': datetime.datetime(2024, 9, 20, 4, 0),\n",
       " 'oai:arXiv.org:2401.11695v2': datetime.datetime(2024, 9, 20, 4, 0),\n",
       " 'oai:arXiv.org:2402.12196v2': datetime.datetime(2024, 9, 20, 4, 0),\n",
       " 'oai:arXiv.org:2403.13774v3': datetime.datetime(2024, 9, 20, 4, 0),\n",
       " 'oai:arXiv.org:2403.15229v2': datetime.datetime(2024, 9, 20, 4, 0),\n",
       " 'oai:arXiv.org:2404.13590v2': datetime.datetime(2024, 9, 20, 4, 0),\n",
       " 'oai:arXiv.org:2405.09834v2': datetime.datetime(2024, 9, 20, 4, 0),\n",
       " 'oai:arXiv.org:2405.15617v2': datetime.datetime(2024, 9, 20, 4, 0),\n",
       " 'oai:arXiv.org:2405.17148v2': datetime.datetime(2024, 9, 20, 4, 0),\n",
       " 'oai:arXiv.org:2407.06713v2': datetime.datetime(2024, 9, 20, 4, 0),\n",
       " 'oai:arXiv.org:2407.08357v2': datetime.datetime(2024, 9, 20, 4, 0),\n",
       " 'oai:arXiv.org:2407.10492v2': datetime.datetime(2024, 9, 20, 4, 0),\n",
       " 'oai:arXiv.org:2408.01267v3': datetime.datetime(2024, 9, 20, 4, 0),\n",
       " 'oai:arXiv.org:2408.13576v2': datetime.datetime(2024, 9, 20, 4, 0),\n",
       " 'oai:arXiv.org:2409.09728v2': datetime.datetime(2024, 9, 20, 4, 0),\n",
       " 'oai:arXiv.org:2409.10712v2': datetime.datetime(2024, 9, 20, 4, 0),\n",
       " 'oai:arXiv.org:2310.04710v3': datetime.datetime(2024, 9, 20, 4, 0),\n",
       " 'oai:arXiv.org:2312.14644v4': datetime.datetime(2024, 9, 20, 4, 0),\n",
       " 'oai:arXiv.org:2403.17138v2': datetime.datetime(2024, 9, 20, 4, 0),\n",
       " 'oai:arXiv.org:2405.21035v2': datetime.datetime(2024, 9, 20, 4, 0),\n",
       " 'oai:arXiv.org:2408.04241v2': datetime.datetime(2024, 9, 20, 4, 0),\n",
       " 'oai:arXiv.org:2409.13027v1': datetime.datetime(2024, 9, 23, 4, 0),\n",
       " 'oai:arXiv.org:2409.13066v1': datetime.datetime(2024, 9, 23, 4, 0),\n",
       " 'oai:arXiv.org:2409.13078v1': datetime.datetime(2024, 9, 23, 4, 0),\n",
       " 'oai:arXiv.org:2409.13211v1': datetime.datetime(2024, 9, 23, 4, 0),\n",
       " 'oai:arXiv.org:2409.13215v1': datetime.datetime(2024, 9, 23, 4, 0),\n",
       " 'oai:arXiv.org:2409.13225v1': datetime.datetime(2024, 9, 23, 4, 0),\n",
       " 'oai:arXiv.org:2409.13258v1': datetime.datetime(2024, 9, 23, 4, 0),\n",
       " 'oai:arXiv.org:2409.13355v1': datetime.datetime(2024, 9, 23, 4, 0),\n",
       " 'oai:arXiv.org:2409.13384v1': datetime.datetime(2024, 9, 23, 4, 0),\n",
       " 'oai:arXiv.org:2409.13408v1': datetime.datetime(2024, 9, 23, 4, 0),\n",
       " 'oai:arXiv.org:2409.13462v1': datetime.datetime(2024, 9, 23, 4, 0),\n",
       " 'oai:arXiv.org:2409.13480v1': datetime.datetime(2024, 9, 23, 4, 0),\n",
       " 'oai:arXiv.org:2409.13505v1': datetime.datetime(2024, 9, 23, 4, 0),\n",
       " 'oai:arXiv.org:2409.13539v1': datetime.datetime(2024, 9, 23, 4, 0),\n",
       " 'oai:arXiv.org:2409.13558v1': datetime.datetime(2024, 9, 23, 4, 0),\n",
       " 'oai:arXiv.org:2409.13659v1': datetime.datetime(2024, 9, 23, 4, 0),\n",
       " 'oai:arXiv.org:2409.12965v1': datetime.datetime(2024, 9, 23, 4, 0),\n",
       " 'oai:arXiv.org:2409.13009v1': datetime.datetime(2024, 9, 23, 4, 0),\n",
       " 'oai:arXiv.org:2409.13018v1': datetime.datetime(2024, 9, 23, 4, 0),\n",
       " 'oai:arXiv.org:2409.13019v1': datetime.datetime(2024, 9, 23, 4, 0),\n",
       " 'oai:arXiv.org:2409.13125v1': datetime.datetime(2024, 9, 23, 4, 0),\n",
       " 'oai:arXiv.org:2409.13372v1': datetime.datetime(2024, 9, 23, 4, 0),\n",
       " 'oai:arXiv.org:2409.13415v1': datetime.datetime(2024, 9, 23, 4, 0),\n",
       " 'oai:arXiv.org:2409.13647v1': datetime.datetime(2024, 9, 23, 4, 0),\n",
       " 'oai:arXiv.org:2306.08384v3': datetime.datetime(2024, 9, 23, 4, 0),\n",
       " 'oai:arXiv.org:2311.15116v2': datetime.datetime(2024, 9, 23, 4, 0),\n",
       " 'oai:arXiv.org:2311.17708v2': datetime.datetime(2024, 9, 23, 4, 0),\n",
       " 'oai:arXiv.org:2312.09701v2': datetime.datetime(2024, 9, 23, 4, 0),\n",
       " 'oai:arXiv.org:2403.00371v4': datetime.datetime(2024, 9, 23, 4, 0),\n",
       " 'oai:arXiv.org:2406.03598v2': datetime.datetime(2024, 9, 23, 4, 0),\n",
       " 'oai:arXiv.org:2406.17029v2': datetime.datetime(2024, 9, 23, 4, 0),\n",
       " 'oai:arXiv.org:2408.05413v3': datetime.datetime(2024, 9, 23, 4, 0),\n",
       " 'oai:arXiv.org:2408.10329v2': datetime.datetime(2024, 9, 23, 4, 0),\n",
       " 'oai:arXiv.org:2409.01839v2': datetime.datetime(2024, 9, 23, 4, 0),\n",
       " 'oai:arXiv.org:2409.08683v2': datetime.datetime(2024, 9, 23, 4, 0),\n",
       " 'oai:arXiv.org:2409.12462v2': datetime.datetime(2024, 9, 23, 4, 0),\n",
       " 'oai:arXiv.org:2409.12731v2': datetime.datetime(2024, 9, 23, 4, 0),\n",
       " 'oai:arXiv.org:2309.01564v4': datetime.datetime(2024, 9, 23, 4, 0),\n",
       " 'oai:arXiv.org:2403.17138v3': datetime.datetime(2024, 9, 23, 4, 0),\n",
       " 'oai:arXiv.org:2405.12643v2': datetime.datetime(2024, 9, 23, 4, 0),\n",
       " 'oai:arXiv.org:2407.15189v2': datetime.datetime(2024, 9, 23, 4, 0),\n",
       " 'oai:arXiv.org:2409.02317v2': datetime.datetime(2024, 9, 23, 4, 0),\n",
       " 'oai:arXiv.org:2409.11438v2': datetime.datetime(2024, 9, 23, 4, 0)}"
      ]
     },
     "execution_count": 11,
     "metadata": {},
     "output_type": "execute_result"
    }
   ],
   "source": [
    "seen_condmat"
   ]
  },
  {
   "cell_type": "code",
   "execution_count": null,
   "metadata": {},
   "outputs": [],
   "source": []
  }
 ],
 "metadata": {
  "kernelspec": {
   "display_name": "base",
   "language": "python",
   "name": "python3"
  },
  "language_info": {
   "codemirror_mode": {
    "name": "ipython",
    "version": 3
   },
   "file_extension": ".py",
   "mimetype": "text/x-python",
   "name": "python",
   "nbconvert_exporter": "python",
   "pygments_lexer": "ipython3",
   "version": "3.12.7"
  }
 },
 "nbformat": 4,
 "nbformat_minor": 2
}
