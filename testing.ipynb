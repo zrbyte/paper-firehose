{
 "cells": [
  {
   "cell_type": "code",
   "execution_count": 9,
   "metadata": {},
   "outputs": [
    {
     "name": "stdout",
     "output_type": "stream",
     "text": [
      "The autoreload extension is already loaded. To reload it, use:\n",
      "  %reload_ext autoreload\n"
     ]
    }
   ],
   "source": [
    "%load_ext autoreload\n",
    "%autoreload 2"
   ]
  },
  {
   "cell_type": "code",
   "execution_count": 10,
   "metadata": {},
   "outputs": [],
   "source": [
    "import rssparser as rssp\n",
    "import os\n",
    "import pickle"
   ]
  },
  {
   "cell_type": "code",
   "execution_count": 11,
   "metadata": {},
   "outputs": [
    {
     "name": "stderr",
     "output_type": "stream",
     "text": [
      "INFO:root:Processing feed 'cond-mat'\n",
      "INFO:root:Processing feed 'nature'\n",
      "INFO:root:Processing feed 'science'\n",
      "INFO:root:Processing feed 'nat-mat'\n",
      "INFO:root:Processing feed 'nat-nanotech'\n",
      "INFO:root:Processing feed 'nat-phys'\n",
      "INFO:root:Processing feed 'nat-chem'\n",
      "INFO:root:Processing feed 'nat-ener'\n",
      "INFO:root:Processing feed 'nat-catal'\n",
      "INFO:root:Processing feed 'nat-chem-eng'\n",
      "INFO:root:Processing feed 'nat-rev-phys'\n",
      "INFO:root:Processing feed 'pnas'\n",
      "INFO:root:Processing feed 'joule'\n",
      "INFO:root:Processing feed 'prb'\n",
      "INFO:root:Processing feed 'prl'\n",
      "INFO:root:Processing feed 'prx'\n",
      "INFO:root:Processing feed 'pr_res'\n",
      "INFO:root:Processing feed 'nano-lett'\n",
      "INFO:root:Processing feed 'acs-nano'\n",
      "INFO:root:Processing feed 'acs-en-lett'\n",
      "INFO:root:Processing feed 'en-env-sci'\n",
      "INFO:root:Processing feed 'science-adv'\n",
      "INFO:root:Processing feed 'sci-rep'\n",
      "INFO:root:Processing feed 'nat-comm'\n",
      "INFO:root:Processing feed 'comm-phys'\n",
      "INFO:root:Processing feed 'comm-mater'\n",
      "INFO:root:Processing feed 'scipost'\n",
      "INFO:root:Processing feed 'small'\n",
      "INFO:root:Processing feed 'adv-mater'\n",
      "INFO:root:Processing feed 'adv-sci'\n",
      "INFO:root:Processing feed 'adv-func-mater'\n",
      "INFO:root:Processing feed 'adv-phys-res'\n"
     ]
    },
    {
     "name": "stdout",
     "output_type": "stream",
     "text": [
      "Generated/Updated HTML file: filtered_articles_2025-06-06.html\n",
      "Generated/Updated HTML file: rg_filtered_articles.html\n",
      "Generated/Updated HTML file: perovskites_filtered_articles_2025-06-06.html\n"
     ]
    }
   ],
   "source": [
    "rssp.main(upload=False)"
   ]
  },
  {
   "cell_type": "code",
   "execution_count": null,
   "metadata": {},
   "outputs": [],
   "source": []
  },
  {
   "cell_type": "code",
   "execution_count": null,
   "metadata": {},
   "outputs": [],
   "source": []
  }
 ],
 "metadata": {
  "kernelspec": {
   "display_name": "base",
   "language": "python",
   "name": "python3"
  },
  "language_info": {
   "codemirror_mode": {
    "name": "ipython",
    "version": 3
   },
   "file_extension": ".py",
   "mimetype": "text/x-python",
   "name": "python",
   "nbconvert_exporter": "python",
   "pygments_lexer": "ipython3",
   "version": "3.12.7"
  }
 },
 "nbformat": 4,
 "nbformat_minor": 2
}
