{
 "cells": [
  {
   "cell_type": "code",
   "execution_count": 1,
   "metadata": {},
   "outputs": [],
   "source": [
    "%load_ext autoreload\n",
    "%autoreload 2"
   ]
  },
  {
   "cell_type": "code",
   "execution_count": 2,
   "metadata": {},
   "outputs": [
    {
     "name": "stderr",
     "output_type": "stream",
     "text": [
      "INFO:root:Loaded search terms from c:\\Users\\zrbyt\\GitHub\\paper-firehose\\search_terms.json\n"
     ]
    }
   ],
   "source": [
    "import rssparser as rssp"
   ]
  },
  {
   "cell_type": "code",
   "execution_count": null,
   "metadata": {},
   "outputs": [
    {
     "name": "stderr",
     "output_type": "stream",
     "text": [
      "INFO:root:Processing feed 'cond-mat'\n"
     ]
    },
    {
     "name": "stderr",
     "output_type": "stream",
     "text": [
      "INFO:root:Processing feed 'nature'\n",
      "INFO:root:Processing feed 'science'\n",
      "INFO:root:Processing feed 'nat-mat'\n",
      "INFO:root:Processing feed 'nat-nanotech'\n",
      "INFO:root:Processing feed 'nat-phys'\n",
      "INFO:root:Processing feed 'nat-chem'\n",
      "INFO:root:Processing feed 'nat-ener'\n",
      "INFO:root:Processing feed 'nat-catal'\n",
      "INFO:root:Processing feed 'nat-chem-eng'\n",
      "INFO:root:Processing feed 'nat-rev-phys'\n"
     ]
    }
   ],
   "source": [
    "rssp.main(upload=False)"
   ]
  },
  {
   "cell_type": "code",
   "execution_count": null,
   "metadata": {},
   "outputs": [],
   "source": []
  },
  {
   "cell_type": "code",
   "execution_count": null,
   "metadata": {},
   "outputs": [],
   "source": []
  }
 ],
 "metadata": {
  "kernelspec": {
   "display_name": "base",
   "language": "python",
   "name": "python3"
  },
  "language_info": {
   "codemirror_mode": {
    "name": "ipython",
    "version": 3
   },
   "file_extension": ".py",
   "mimetype": "text/x-python",
   "name": "python",
   "nbconvert_exporter": "python",
   "pygments_lexer": "ipython3",
   "version": "3.12.7"
  }
 },
 "nbformat": 4,
 "nbformat_minor": 2
}
