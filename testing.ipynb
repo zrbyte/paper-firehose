{
 "cells": [
  {
   "cell_type": "code",
   "execution_count": 1,
   "metadata": {},
   "outputs": [],
   "source": [
    "%load_ext autoreload\n",
    "%autoreload 2"
   ]
  },
  {
   "cell_type": "code",
   "execution_count": 2,
   "metadata": {},
   "outputs": [
    {
     "name": "stderr",
     "output_type": "stream",
     "text": [
      "INFO:root:Loaded search terms from c:\\Users\\zrbyt\\GitHub\\paper-firehose\\search_terms.json\n"
     ]
    }
   ],
   "source": [
    "import rssparser as rssp\n",
    "import os\n",
    "import pickle"
   ]
  },
  {
   "cell_type": "code",
   "execution_count": 3,
   "metadata": {},
   "outputs": [
    {
     "name": "stderr",
     "output_type": "stream",
     "text": [
      "INFO:root:Processing feed 'cond-mat'\n",
      "INFO:root:Processing feed 'nature'\n",
      "INFO:root:Processing feed 'science'\n",
      "INFO:root:Processing feed 'nat-mat'\n",
      "INFO:root:Processing feed 'nat-nanotech'\n",
      "INFO:root:Processing feed 'nat-phys'\n",
      "INFO:root:Processing feed 'nat-chem'\n",
      "INFO:root:Processing feed 'nat-ener'\n",
      "INFO:root:Processing feed 'nat-catal'\n",
      "INFO:root:Processing feed 'nat-chem-eng'\n",
      "INFO:root:Processing feed 'nat-rev-phys'\n",
      "INFO:root:Processing feed 'pnas'\n",
      "INFO:root:Processing feed 'joule'\n",
      "INFO:root:Processing feed 'prb'\n",
      "INFO:root:Processing feed 'prl'\n",
      "INFO:root:Processing feed 'prx'\n",
      "INFO:root:Processing feed 'pr_res'\n",
      "INFO:root:Processing feed 'nano-lett'\n",
      "INFO:root:Processing feed 'acs-nano'\n",
      "INFO:root:Processing feed 'acs-en-lett'\n",
      "INFO:root:Processing feed 'en-env-sci'\n",
      "INFO:root:Processing feed 'science-adv'\n",
      "INFO:root:Processing feed 'sci-rep'\n",
      "INFO:root:Processing feed 'nat-comm'\n",
      "INFO:root:Processing feed 'comm-phys'\n",
      "INFO:root:Processing feed 'comm-mater'\n",
      "INFO:root:Processing feed 'scipost'\n",
      "INFO:root:Processing feed 'small'\n",
      "INFO:root:Processing feed 'adv-mater'\n",
      "INFO:root:Processing feed 'adv-sci'\n",
      "INFO:root:Processing feed 'adv-func-mater'\n",
      "INFO:root:Processing feed 'adv-phys-res'\n"
     ]
    },
    {
     "ename": "ValueError",
     "evalue": "Invalid placeholder in string: line 9, col 22",
     "output_type": "error",
     "traceback": [
      "\u001b[1;31m---------------------------------------------------------------------------\u001b[0m",
      "\u001b[1;31mValueError\u001b[0m                                Traceback (most recent call last)",
      "Cell \u001b[1;32mIn[3], line 1\u001b[0m\n\u001b[1;32m----> 1\u001b[0m rssp\u001b[38;5;241m.\u001b[39mmain()\n",
      "File \u001b[1;32mc:\\Users\\zrbyt\\GitHub\\paper-firehose\\rssparser.py:368\u001b[0m, in \u001b[0;36mmain\u001b[1;34m(upload)\u001b[0m\n\u001b[0;32m    362\u001b[0m \u001b[38;5;28;01mfor\u001b[39;00m topic \u001b[38;5;129;01min\u001b[39;00m topics:\n\u001b[0;32m    363\u001b[0m     description \u001b[38;5;241m=\u001b[39m (\n\u001b[0;32m    364\u001b[0m         \u001b[38;5;124m\"\u001b[39m\u001b[38;5;124mFiltered Articles Matching Search Terms\u001b[39m\u001b[38;5;124m\"\u001b[39m \u001b[38;5;28;01mif\u001b[39;00m topic \u001b[38;5;241m==\u001b[39m \u001b[38;5;124m\"\u001b[39m\u001b[38;5;124mprimary\u001b[39m\u001b[38;5;124m\"\u001b[39m \u001b[38;5;28;01melse\u001b[39;00m\n\u001b[0;32m    365\u001b[0m         \u001b[38;5;124mf\u001b[39m\u001b[38;5;124m\"\u001b[39m\u001b[38;5;124mArticles related to \u001b[39m\u001b[38;5;132;01m{\u001b[39;00mtopic\u001b[38;5;132;01m}\u001b[39;00m\u001b[38;5;124m\"\u001b[39m\n\u001b[0;32m    366\u001b[0m     )\n\u001b[1;32m--> 368\u001b[0m     generate_html(\n\u001b[0;32m    369\u001b[0m         all_new_entries[topic],\n\u001b[0;32m    370\u001b[0m         MAIN_DIR \u001b[38;5;241m+\u001b[39m html_files[topic],\n\u001b[0;32m    371\u001b[0m         search_description\u001b[38;5;241m=\u001b[39mdescription,\n\u001b[0;32m    372\u001b[0m     )\n\u001b[0;32m    373\u001b[0m     \u001b[38;5;28mprint\u001b[39m(\u001b[38;5;124mf\u001b[39m\u001b[38;5;124m\"\u001b[39m\u001b[38;5;124mGenerated/Updated HTML file: \u001b[39m\u001b[38;5;132;01m{\u001b[39;00mhtml_files[topic]\u001b[38;5;132;01m}\u001b[39;00m\u001b[38;5;124m\"\u001b[39m)\n\u001b[0;32m    375\u001b[0m     \u001b[38;5;28;01mif\u001b[39;00m topic \u001b[38;5;241m==\u001b[39m \u001b[38;5;124m\"\u001b[39m\u001b[38;5;124mrg\u001b[39m\u001b[38;5;124m\"\u001b[39m:\n",
      "File \u001b[1;32mc:\\Users\\zrbyt\\GitHub\\paper-firehose\\rssparser.py:205\u001b[0m, in \u001b[0;36mgenerate_html\u001b[1;34m(all_entries_per_feed, html_file_path, search_description)\u001b[0m\n\u001b[0;32m    203\u001b[0m \u001b[38;5;28;01mwith\u001b[39;00m \u001b[38;5;28mopen\u001b[39m(HTML_TEMPLATE_PATH, \u001b[38;5;124m'\u001b[39m\u001b[38;5;124mr\u001b[39m\u001b[38;5;124m'\u001b[39m, encoding\u001b[38;5;241m=\u001b[39m\u001b[38;5;124m'\u001b[39m\u001b[38;5;124mutf-8\u001b[39m\u001b[38;5;124m'\u001b[39m) \u001b[38;5;28;01mas\u001b[39;00m tmpl:\n\u001b[0;32m    204\u001b[0m     template \u001b[38;5;241m=\u001b[39m Template(tmpl\u001b[38;5;241m.\u001b[39mread())\n\u001b[1;32m--> 205\u001b[0m rendered \u001b[38;5;241m=\u001b[39m template\u001b[38;5;241m.\u001b[39msubstitute(\n\u001b[0;32m    206\u001b[0m     title\u001b[38;5;241m=\u001b[39mhtml\u001b[38;5;241m.\u001b[39mescape(search_description),\n\u001b[0;32m    207\u001b[0m     date\u001b[38;5;241m=\u001b[39mdatetime\u001b[38;5;241m.\u001b[39mdate\u001b[38;5;241m.\u001b[39mtoday(),\n\u001b[0;32m    208\u001b[0m     content\u001b[38;5;241m=\u001b[39m\u001b[38;5;124m\"\u001b[39m\u001b[38;5;124m\"\u001b[39m,\n\u001b[0;32m    209\u001b[0m )\n\u001b[0;32m    210\u001b[0m \u001b[38;5;28;01mwith\u001b[39;00m \u001b[38;5;28mopen\u001b[39m(html_file_path, \u001b[38;5;124m'\u001b[39m\u001b[38;5;124mw\u001b[39m\u001b[38;5;124m'\u001b[39m, encoding\u001b[38;5;241m=\u001b[39m\u001b[38;5;124m'\u001b[39m\u001b[38;5;124mutf-8\u001b[39m\u001b[38;5;124m'\u001b[39m) \u001b[38;5;28;01mas\u001b[39;00m f:\n\u001b[0;32m    211\u001b[0m     f\u001b[38;5;241m.\u001b[39mwrite(rendered)\n",
      "File \u001b[1;32mc:\\Users\\zrbyt\\anaconda3\\Lib\\string.py:121\u001b[0m, in \u001b[0;36mTemplate.substitute\u001b[1;34m(self, mapping, **kws)\u001b[0m\n\u001b[0;32m    118\u001b[0m         \u001b[38;5;28mself\u001b[39m\u001b[38;5;241m.\u001b[39m_invalid(mo)\n\u001b[0;32m    119\u001b[0m     \u001b[38;5;28;01mraise\u001b[39;00m \u001b[38;5;167;01mValueError\u001b[39;00m(\u001b[38;5;124m'\u001b[39m\u001b[38;5;124mUnrecognized named group in pattern\u001b[39m\u001b[38;5;124m'\u001b[39m,\n\u001b[0;32m    120\u001b[0m                      \u001b[38;5;28mself\u001b[39m\u001b[38;5;241m.\u001b[39mpattern)\n\u001b[1;32m--> 121\u001b[0m \u001b[38;5;28;01mreturn\u001b[39;00m \u001b[38;5;28mself\u001b[39m\u001b[38;5;241m.\u001b[39mpattern\u001b[38;5;241m.\u001b[39msub(convert, \u001b[38;5;28mself\u001b[39m\u001b[38;5;241m.\u001b[39mtemplate)\n",
      "File \u001b[1;32mc:\\Users\\zrbyt\\anaconda3\\Lib\\string.py:118\u001b[0m, in \u001b[0;36mTemplate.substitute.<locals>.convert\u001b[1;34m(mo)\u001b[0m\n\u001b[0;32m    116\u001b[0m     \u001b[38;5;28;01mreturn\u001b[39;00m \u001b[38;5;28mself\u001b[39m\u001b[38;5;241m.\u001b[39mdelimiter\n\u001b[0;32m    117\u001b[0m \u001b[38;5;28;01mif\u001b[39;00m mo\u001b[38;5;241m.\u001b[39mgroup(\u001b[38;5;124m'\u001b[39m\u001b[38;5;124minvalid\u001b[39m\u001b[38;5;124m'\u001b[39m) \u001b[38;5;129;01mis\u001b[39;00m \u001b[38;5;129;01mnot\u001b[39;00m \u001b[38;5;28;01mNone\u001b[39;00m:\n\u001b[1;32m--> 118\u001b[0m     \u001b[38;5;28mself\u001b[39m\u001b[38;5;241m.\u001b[39m_invalid(mo)\n\u001b[0;32m    119\u001b[0m \u001b[38;5;28;01mraise\u001b[39;00m \u001b[38;5;167;01mValueError\u001b[39;00m(\u001b[38;5;124m'\u001b[39m\u001b[38;5;124mUnrecognized named group in pattern\u001b[39m\u001b[38;5;124m'\u001b[39m,\n\u001b[0;32m    120\u001b[0m                  \u001b[38;5;28mself\u001b[39m\u001b[38;5;241m.\u001b[39mpattern)\n",
      "File \u001b[1;32mc:\\Users\\zrbyt\\anaconda3\\Lib\\string.py:101\u001b[0m, in \u001b[0;36mTemplate._invalid\u001b[1;34m(self, mo)\u001b[0m\n\u001b[0;32m     99\u001b[0m     colno \u001b[38;5;241m=\u001b[39m i \u001b[38;5;241m-\u001b[39m \u001b[38;5;28mlen\u001b[39m(\u001b[38;5;124m'\u001b[39m\u001b[38;5;124m'\u001b[39m\u001b[38;5;241m.\u001b[39mjoin(lines[:\u001b[38;5;241m-\u001b[39m\u001b[38;5;241m1\u001b[39m]))\n\u001b[0;32m    100\u001b[0m     lineno \u001b[38;5;241m=\u001b[39m \u001b[38;5;28mlen\u001b[39m(lines)\n\u001b[1;32m--> 101\u001b[0m \u001b[38;5;28;01mraise\u001b[39;00m \u001b[38;5;167;01mValueError\u001b[39;00m(\u001b[38;5;124m'\u001b[39m\u001b[38;5;124mInvalid placeholder in string: line \u001b[39m\u001b[38;5;132;01m%d\u001b[39;00m\u001b[38;5;124m, col \u001b[39m\u001b[38;5;132;01m%d\u001b[39;00m\u001b[38;5;124m'\u001b[39m \u001b[38;5;241m%\u001b[39m\n\u001b[0;32m    102\u001b[0m                  (lineno, colno))\n",
      "\u001b[1;31mValueError\u001b[0m: Invalid placeholder in string: line 9, col 22"
     ]
    }
   ],
   "source": [
    "rssp.main()"
   ]
  },
  {
   "cell_type": "code",
   "execution_count": null,
   "metadata": {},
   "outputs": [],
   "source": []
  },
  {
   "cell_type": "code",
   "execution_count": null,
   "metadata": {},
   "outputs": [],
   "source": []
  }
 ],
 "metadata": {
  "kernelspec": {
   "display_name": "base",
   "language": "python",
   "name": "python3"
  },
  "language_info": {
   "codemirror_mode": {
    "name": "ipython",
    "version": 3
   },
   "file_extension": ".py",
   "mimetype": "text/x-python",
   "name": "python",
   "nbconvert_exporter": "python",
   "pygments_lexer": "ipython3",
   "version": "3.12.7"
  }
 },
 "nbformat": 4,
 "nbformat_minor": 2
}
